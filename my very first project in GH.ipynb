{
 "cells": [
  {
   "cell_type": "code",
   "execution_count": 8,
   "id": "067393f3-65c5-4b36-9247-e3e560237b30",
   "metadata": {},
   "outputs": [
    {
     "name": "stdout",
     "output_type": "stream",
     "text": [
      "________________your TO-DO list________________\n",
      "menu: \n",
      " 1-Add a task \n",
      " 2-remove a task \n",
      " 3-change a task \n",
      " 4-display your tasks \n",
      " 5-exit the menu\n"
     ]
    },
    {
     "name": "stdin",
     "output_type": "stream",
     "text": [
      "choose 5\n"
     ]
    },
    {
     "name": "stdout",
     "output_type": "stream",
     "text": [
      "Exiting the menu\n"
     ]
    }
   ],
   "source": [
    "ur_tasks=[]\n",
    "x=0\n",
    "def add():\n",
    "        order=int(input(\"the postion to add the task :\")) -1\n",
    "        if order<0 or order> len(ur_tasks):\n",
    "            print(\"This field is full, try another one!!\")\n",
    "        else:\n",
    "            new_task=input(\"add a new task :\")\n",
    "            ur_tasks.insert(order, new_task)\n",
    "            print(\"your task has been added to the to-do list\")\n",
    "\n",
    "\n",
    "def supp():\n",
    "        index=int(input(\"choose the task you want to remove\"))-1\n",
    "        if ur_tasks[index] in ur_tasks:\n",
    "            ur_tasks.pop(index)\n",
    "            print(\"the task has been removed successfully\")\n",
    "\n",
    "\n",
    "def replace():\n",
    "        new=input(\"enter the new task\")\n",
    "        pl=int(input(\"choose the task you want to replace\"))-1\n",
    "        ur_tasks[pl]=new\n",
    "        print(\"the task has been replaced successfully\")\n",
    "\n",
    "\n",
    "def show():\n",
    "        for i in range(len(ur_tasks)):\n",
    "            print(f\"{i+1}- {ur_tasks[i]}\")\n",
    "            \n",
    "\n",
    "while x != 5:\n",
    "    print(\"________________your TO-DO list________________\")\n",
    "    print(\"menu: \\n 1-Add a task \\n 2-remove a task \\n 3-change a task \\n 4-display your tasks \\n 5-exit the menu\")\n",
    "    x = int(input(\"choose\"))\n",
    "    if x == 1:        \n",
    "        add()\n",
    "    elif x == 2:\n",
    "        supp()\n",
    "    elif x == 3:\n",
    "        replace()\n",
    "    elif x == 4:\n",
    "        show()\n",
    "    elif x == 5:\n",
    "        print(\"Exiting the menu\")\n",
    "        break\n",
    "    else:\n",
    "        print(\"Invalid option. Please choose again.\")\n",
    "    "
   ]
  },
  {
   "cell_type": "code",
   "execution_count": null,
   "id": "37d5d87f-cc85-404f-91b6-a0481b424b33",
   "metadata": {},
   "outputs": [],
   "source": []
  }
 ],
 "metadata": {
  "kernelspec": {
   "display_name": "Python 3 (ipykernel)",
   "language": "python",
   "name": "python3"
  },
  "language_info": {
   "codemirror_mode": {
    "name": "ipython",
    "version": 3
   },
   "file_extension": ".py",
   "mimetype": "text/x-python",
   "name": "python",
   "nbconvert_exporter": "python",
   "pygments_lexer": "ipython3",
   "version": "3.12.4"
  }
 },
 "nbformat": 4,
 "nbformat_minor": 5
}
